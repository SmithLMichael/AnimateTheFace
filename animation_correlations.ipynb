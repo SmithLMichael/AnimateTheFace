{
 "cells": [
  {
   "cell_type": "markdown",
   "metadata": {},
   "source": [
    "# Introduction: Animation Correlations\n",
    "\n",
    "To calculate the correlations between Michael's animation videos and the video only videos, we must do three steps: \n",
    "1. Clean the datasets to remove participants who didn't perform as desired.\n",
    "2. Average columnwise to get the average ratings of a specific animation/video in a vector form.\n",
    "3. Calculate the correlation between the video_only condition and {mouth_only, eyes_only, and full_face} animation conditions."
   ]
  },
  {
   "cell_type": "code",
   "execution_count": 1,
   "metadata": {},
   "outputs": [
    {
     "name": "stderr",
     "output_type": "stream",
     "text": [
      "/anaconda3/lib/python3.6/site-packages/matplotlib/__init__.py:955: UserWarning: Illegal line #1\n",
      "\t\"backend=TkAgg\"\n",
      "\tin file \"/Users/MichaelSmith/.matplotlib/matplotlibrc\"\n",
      "  warnings.warn('Illegal %s' % error_details)\n"
     ]
    }
   ],
   "source": [
    "import os\n",
    "import csv\n",
    "import pandas as pd\n",
    "import numpy as np\n",
    "import re\n",
    "from cleanavgcorr import ParticipantResults\n",
    "import scipy.stats as st\n",
    "%matplotlib inline"
   ]
  },
  {
   "cell_type": "markdown",
   "metadata": {},
   "source": [
    "# Read in CSV Files\n",
    "\n",
    "We read in CSV's to four lists: face, eyes, mouth, and vid_only. Each list contains twelve tuples, corresponding to the twelve videos that we tested participants on. Each tuple is of format (video_id, class ParticipantResults). \n",
    "\n",
    "*For anim_directory*: give the path to the 'val_ratings_result' folder in the 'animation_results' folder.\n",
    "\n",
    "*For vid_only_dir*: give the path to the 'videoOnly results' \n",
    "\n",
    "*For worker_info*: give the path to the worker_info.csv file"
   ]
  },
  {
   "cell_type": "code",
   "execution_count": 2,
   "metadata": {},
   "outputs": [],
   "source": [
    "anim_directory = os.fsencode('/Users/MichaelSmith/Desktop/new_animation_result/ratings')\n",
    "vid_only_dir = os.fsencode('/Users/MichaelSmith/Desktop/VideoOnly')\n",
    "worker_info = pd.read_csv('/Users/MichaelSmith/Desktop/new_animation_result/workers/worker_info_new.csv', sep=',')\n",
    "\n",
    "face = {}\n",
    "mouth = {}\n",
    "eyes = {}\n",
    "vid_only = {}\n",
    "\n",
    "# FACE, EYES, MOUTH ANIMATION CONDITIONS\n",
    "for file in os.listdir(anim_directory):\n",
    "    filename = os.fsdecode(file)\n",
    "    if filename.endswith('.csv'):\n",
    "        vid_id = filename[:10]\n",
    "        df = pd.read_csv(os.path.join(os.fsdecode(anim_directory), filename))\n",
    "        if 'face' in filename:\n",
    "            pr = ParticipantResults(vid_id + '_anim_face', df, worker_info)\n",
    "            face[vid_id] = pr\n",
    "        elif 'eyes' in filename:\n",
    "            pr = ParticipantResults(vid_id + '_anim_eyes', df, worker_info)\n",
    "            eyes[vid_id] = pr\n",
    "        else:\n",
    "            pr = ParticipantResults(vid_id + '_anim_mouth', df, worker_info)\n",
    "            mouth[vid_id] = pr\n",
    "\n",
    "# VIDEO ONLY CONDITION\n",
    "for file in os.listdir(vid_only_dir):\n",
    "    filename = os.fsdecode(file)\n",
    "    if filename.endswith('.csv'):\n",
    "        vid_id = filename[:10]\n",
    "        df = pd.read_csv(os.path.join(os.fsdecode(vid_only_dir), filename))\n",
    "        pr = ParticipantResults(vid_id, df, worker_info)\n",
    "        vid_only[vid_id] = pr"
   ]
  },
  {
   "cell_type": "code",
   "execution_count": 3,
   "metadata": {},
   "outputs": [
    {
     "data": {
      "text/plain": [
       "<cleanavgcorr.ParticipantResults at 0x10473a278>"
      ]
     },
     "execution_count": 3,
     "metadata": {},
     "output_type": "execute_result"
    }
   ],
   "source": [
    "face['ID118_vid3']"
   ]
  },
  {
   "cell_type": "markdown",
   "metadata": {},
   "source": [
    "# Cleaning and Averaging\n",
    "First, we need to clean the CSV files before we can average the participants' ratings. The type of cleaning depends on\n",
    "the CSV. \n",
    "\n",
    "##### Removal Conditions:\n",
    "For the animation CSVs (only), we have information on the attention of the participants (time spent on the tab = i.e. 1 - time on other tab(s)); if attention falls below 75% **(subject to change)**, we remove that participant's trial results. For both the video-only and animation conditions, we remove a participant's trial if they do not move the slider bar at least three times **(subject to change)**. These variables can be changed in the ParticipantResults class.\n",
    "\n",
    "This leaves us with datasets of size (num_participants x time).\n",
    "##### Averaging:\n",
    "We average each dataset columnwise, across participants."
   ]
  },
  {
   "cell_type": "code",
   "execution_count": 4,
   "metadata": {},
   "outputs": [
    {
     "name": "stdout",
     "output_type": "stream",
     "text": [
      "Num people thrown out for video ID173_vid6_anim_face: 4 out of 37 participants\n",
      "Num people thrown out for video ID173_vid6_anim_eyes: 2 out of 26 participants\n",
      "Num people thrown out for video ID173_vid6_anim_mouth: 3 out of 27 participants\n",
      "Num people thrown out for video ID173_vid6: 9 out of 59 participants\n",
      "\n",
      "Num people thrown out for video ID120_vid1_anim_face: 6 out of 35 participants\n",
      "Num people thrown out for video ID120_vid1_anim_eyes: 2 out of 23 participants\n",
      "Num people thrown out for video ID120_vid1_anim_mouth: 6 out of 32 participants\n",
      "Num people thrown out for video ID120_vid1: 5 out of 64 participants\n",
      "\n",
      "Num people thrown out for video ID174_vid2_anim_face: 5 out of 34 participants\n",
      "Num people thrown out for video ID174_vid2_anim_eyes: 4 out of 24 participants\n",
      "Num people thrown out for video ID174_vid2_anim_mouth: 4 out of 32 participants\n",
      "Num people thrown out for video ID174_vid2: 10 out of 69 participants\n",
      "\n",
      "Num people thrown out for video ID151_vid2_anim_face: 9 out of 30 participants\n",
      "Num people thrown out for video ID151_vid2_anim_eyes: 8 out of 25 participants\n",
      "Num people thrown out for video ID151_vid2_anim_mouth: 8 out of 35 participants\n",
      "Num people thrown out for video ID151_vid2: 11 out of 58 participants\n",
      "\n",
      "Num people thrown out for video ID135_vid3_anim_face: 1 out of 28 participants\n",
      "Num people thrown out for video ID135_vid3_anim_eyes: 4 out of 32 participants\n",
      "Num people thrown out for video ID135_vid3_anim_mouth: 4 out of 30 participants\n",
      "Num people thrown out for video ID135_vid3: 6 out of 56 participants\n",
      "\n",
      "Num people thrown out for video ID161_vid3_anim_face: 4 out of 28 participants\n",
      "Num people thrown out for video ID161_vid3_anim_eyes: 6 out of 30 participants\n",
      "Num people thrown out for video ID161_vid3_anim_mouth: 8 out of 32 participants\n",
      "Num people thrown out for video ID161_vid3: 13 out of 54 participants\n",
      "\n",
      "Num people thrown out for video ID169_vid4_anim_face: 7 out of 29 participants\n",
      "Num people thrown out for video ID169_vid4_anim_eyes: 7 out of 25 participants\n",
      "Num people thrown out for video ID169_vid4_anim_mouth: 12 out of 36 participants\n",
      "Num people thrown out for video ID169_vid4: 7 out of 50 participants\n",
      "\n",
      "Num people thrown out for video ID181_vid2_anim_face: 2 out of 30 participants\n",
      "Num people thrown out for video ID181_vid2_anim_eyes: 4 out of 30 participants\n",
      "Num people thrown out for video ID181_vid2_anim_mouth: 2 out of 30 participants\n",
      "Num people thrown out for video ID181_vid2: 6 out of 67 participants\n",
      "\n",
      "Num people thrown out for video ID147_vid5_anim_face: 4 out of 31 participants\n",
      "Num people thrown out for video ID147_vid5_anim_eyes: 2 out of 29 participants\n",
      "Num people thrown out for video ID147_vid5_anim_mouth: 4 out of 30 participants\n",
      "Num people thrown out for video ID147_vid5: 6 out of 59 participants\n",
      "\n",
      "Num people thrown out for video ID167_vid2_anim_face: 4 out of 30 participants\n",
      "Num people thrown out for video ID167_vid2_anim_eyes: 7 out of 34 participants\n",
      "Num people thrown out for video ID167_vid2_anim_mouth: 8 out of 26 participants\n",
      "Num people thrown out for video ID167_vid2: 6 out of 63 participants\n",
      "\n",
      "Num people thrown out for video ID119_vid4_anim_face: 9 out of 27 participants\n",
      "Num people thrown out for video ID119_vid4_anim_eyes: 9 out of 32 participants\n",
      "Num people thrown out for video ID119_vid4_anim_mouth: 9 out of 31 participants\n",
      "Num people thrown out for video ID119_vid4: 8 out of 50 participants\n",
      "\n",
      "Num people thrown out for video ID120_vid4_anim_face: 0 out of 28 participants\n",
      "Num people thrown out for video ID120_vid4_anim_eyes: 5 out of 41 participants\n",
      "Num people thrown out for video ID120_vid4_anim_mouth: 3 out of 21 participants\n",
      "Num people thrown out for video ID120_vid4: 6 out of 55 participants\n",
      "\n",
      "Num people thrown out for video ID181_vid4_anim_face: 7 out of 34 participants\n",
      "Num people thrown out for video ID181_vid4_anim_eyes: 11 out of 33 participants\n",
      "Num people thrown out for video ID181_vid4_anim_mouth: 10 out of 23 participants\n",
      "Num people thrown out for video ID181_vid4: 6 out of 55 participants\n",
      "\n",
      "Num people thrown out for video ID129_vid5_anim_face: 3 out of 24 participants\n",
      "Num people thrown out for video ID129_vid5_anim_eyes: 4 out of 32 participants\n",
      "Num people thrown out for video ID129_vid5_anim_mouth: 2 out of 34 participants\n",
      "Num people thrown out for video ID129_vid5: 9 out of 65 participants\n",
      "\n",
      "Num people thrown out for video ID137_vid6_anim_face: 4 out of 23 participants\n",
      "Num people thrown out for video ID137_vid6_anim_eyes: 5 out of 28 participants\n",
      "Num people thrown out for video ID137_vid6_anim_mouth: 8 out of 39 participants\n",
      "Num people thrown out for video ID137_vid6: 9 out of 60 participants\n",
      "\n",
      "Num people thrown out for video ID118_vid3_anim_face: 5 out of 29 participants\n",
      "Num people thrown out for video ID118_vid3_anim_eyes: 6 out of 31 participants\n",
      "Num people thrown out for video ID118_vid3_anim_mouth: 8 out of 30 participants\n",
      "Num people thrown out for video ID118_vid3: 9 out of 59 participants\n",
      "\n",
      "Num people thrown out for video ID128_vid2_anim_face: 9 out of 33 participants\n",
      "Num people thrown out for video ID128_vid2_anim_eyes: 5 out of 29 participants\n",
      "Num people thrown out for video ID128_vid2_anim_mouth: 4 out of 28 participants\n",
      "Num people thrown out for video ID128_vid2: 15 out of 69 participants\n",
      "\n",
      "Num people thrown out for video ID147_vid2_anim_face: 3 out of 27 participants\n",
      "Num people thrown out for video ID147_vid2_anim_eyes: 7 out of 28 participants\n",
      "Num people thrown out for video ID147_vid2_anim_mouth: 3 out of 35 participants\n",
      "Num people thrown out for video ID147_vid2: 8 out of 51 participants\n",
      "\n",
      "Num people thrown out for video ID171_vid1_anim_face: 8 out of 39 participants\n",
      "Num people thrown out for video ID171_vid1_anim_eyes: 1 out of 30 participants\n",
      "Num people thrown out for video ID171_vid1_anim_mouth: 5 out of 21 participants\n",
      "Num people thrown out for video ID171_vid1: 13 out of 54 participants\n",
      "\n",
      "Num people thrown out for video ID170_vid2_anim_face: 3 out of 29 participants\n",
      "Num people thrown out for video ID170_vid2_anim_eyes: 5 out of 31 participants\n",
      "Num people thrown out for video ID170_vid2_anim_mouth: 5 out of 30 participants\n",
      "Num people thrown out for video ID170_vid2: 14 out of 56 participants\n",
      "\n",
      "Num people thrown out for video ID153_vid3_anim_face: 8 out of 32 participants\n",
      "Num people thrown out for video ID153_vid3_anim_eyes: 6 out of 39 participants\n",
      "Num people thrown out for video ID153_vid3_anim_mouth: 4 out of 19 participants\n",
      "Num people thrown out for video ID153_vid3: 8 out of 59 participants\n",
      "\n",
      "Num people thrown out for video ID129_vid2_anim_face: 8 out of 30 participants\n",
      "Num people thrown out for video ID129_vid2_anim_eyes: 5 out of 31 participants\n",
      "Num people thrown out for video ID129_vid2_anim_mouth: 4 out of 29 participants\n",
      "Num people thrown out for video ID129_vid2: 13 out of 61 participants\n",
      "\n",
      "Num people thrown out for video ID174_vid3_anim_face: 2 out of 25 participants\n",
      "Num people thrown out for video ID174_vid3_anim_eyes: 6 out of 32 participants\n",
      "Num people thrown out for video ID174_vid3_anim_mouth: 1 out of 33 participants\n",
      "Num people thrown out for video ID174_vid3: 9 out of 60 participants\n",
      "\n",
      "Num people thrown out for video ID121_vid5_anim_face: 7 out of 28 participants\n",
      "Num people thrown out for video ID121_vid5_anim_eyes: 2 out of 25 participants\n",
      "Num people thrown out for video ID121_vid5_anim_mouth: 6 out of 37 participants\n",
      "Num people thrown out for video ID121_vid5: 16 out of 66 participants\n",
      "\n"
     ]
    }
   ],
   "source": [
    "# We can call clean as many times as possible - but cleaning only works once. Same with averaging.\n",
    "for key in vid_only:\n",
    "    face[key].clean()\n",
    "    face[key].compute_average()\n",
    "    eyes[key].clean()\n",
    "    eyes[key].compute_average()\n",
    "    mouth[key].clean()\n",
    "    mouth[key].compute_average()\n",
    "    vid_only[key].clean(anim=False)\n",
    "    vid_only[key].compute_average()\n",
    "    print()"
   ]
  },
  {
   "cell_type": "markdown",
   "metadata": {},
   "source": [
    "# Correlating\n",
    "\n",
    "For each of the three conditions ({eyes_only, jaw/mouth_only, full_face}), we correlate with the video_only condition for each video before averaging across all videos. We use pearson's r for correlating."
   ]
  },
  {
   "cell_type": "code",
   "execution_count": 11,
   "metadata": {},
   "outputs": [
    {
     "data": {
      "text/plain": [
       "24"
      ]
     },
     "execution_count": 11,
     "metadata": {},
     "output_type": "execute_result"
    }
   ],
   "source": []
  },
  {
   "cell_type": "code",
   "execution_count": 14,
   "metadata": {},
   "outputs": [
    {
     "name": "stdout",
     "output_type": "stream",
     "text": [
      "For video ID173_vid6: corr's btwn video_only and face, mouth, and eyes are: 0.758982, -0.125961, 0.005120\n",
      "For video ID120_vid1: corr's btwn video_only and face, mouth, and eyes are: 0.820400, 0.231546, -0.164377\n",
      "For video ID174_vid2: corr's btwn video_only and face, mouth, and eyes are: 0.548788, 0.342210, -0.505821\n",
      "For video ID151_vid2: corr's btwn video_only and face, mouth, and eyes are: 0.487768, 0.904871, 0.624628\n",
      "For video ID135_vid3: corr's btwn video_only and face, mouth, and eyes are: -0.264098, 0.554585, 0.690425\n",
      "For video ID161_vid3: corr's btwn video_only and face, mouth, and eyes are: 0.866053, 0.683447, 0.335927\n",
      "For video ID169_vid4: corr's btwn video_only and face, mouth, and eyes are: 0.658679, -0.056467, 0.811073\n",
      "For video ID181_vid2: corr's btwn video_only and face, mouth, and eyes are: 0.878202, 0.867823, 0.485170\n",
      "For video ID147_vid5: corr's btwn video_only and face, mouth, and eyes are: -0.193039, 0.391303, -0.073037\n",
      "For video ID167_vid2: corr's btwn video_only and face, mouth, and eyes are: 0.263542, 0.539132, -0.496481\n",
      "For video ID119_vid4: corr's btwn video_only and face, mouth, and eyes are: 0.528239, 0.502573, 0.559196\n",
      "For video ID120_vid4: corr's btwn video_only and face, mouth, and eyes are: 0.937433, 0.302573, 0.263354\n",
      "For video ID181_vid4: corr's btwn video_only and face, mouth, and eyes are: 0.860411, 0.907085, -0.127113\n",
      "For video ID129_vid5: corr's btwn video_only and face, mouth, and eyes are: 0.233362, 0.081420, 0.652618\n",
      "For video ID137_vid6: corr's btwn video_only and face, mouth, and eyes are: 0.188076, 0.164637, -0.440402\n",
      "For video ID118_vid3: corr's btwn video_only and face, mouth, and eyes are: 0.076164, -0.195537, -0.337808\n",
      "For video ID128_vid2: corr's btwn video_only and face, mouth, and eyes are: 0.126347, 0.517690, 0.738736\n",
      "For video ID147_vid2: corr's btwn video_only and face, mouth, and eyes are: 0.049605, 0.588132, -0.227755\n",
      "For video ID171_vid1: corr's btwn video_only and face, mouth, and eyes are: 0.792108, 0.598641, -0.325507\n",
      "For video ID170_vid2: corr's btwn video_only and face, mouth, and eyes are: 0.746535, 0.848766, -0.194188\n",
      "For video ID153_vid3: corr's btwn video_only and face, mouth, and eyes are: 0.594459, 0.584336, 0.926725\n",
      "For video ID129_vid2: corr's btwn video_only and face, mouth, and eyes are: -0.762712, -0.243365, 0.095808\n",
      "For video ID174_vid3: corr's btwn video_only and face, mouth, and eyes are: 0.726176, 0.819316, -0.387622\n",
      "For video ID121_vid5: corr's btwn video_only and face, mouth, and eyes are: 0.214467, -0.062888, 0.390929\n",
      "24\n",
      "24\n",
      "24\n",
      "Average Face Correlation:  0.5166894549414041\n",
      "Average Mouth Correlation:  0.4891133352699599\n",
      "Average Eyes Correlation:  0.20138367130709384\n"
     ]
    }
   ],
   "source": [
    "total_face = []\n",
    "face_pear_corr_vals = []\n",
    "total_mouth = []\n",
    "mouth_pear_corr_vals = []\n",
    "total_eyes = []\n",
    "eyes_pear_corr_vals = []\n",
    "\n",
    "for key in vid_only:\n",
    "    face_corr = face[key].average_df.corr(vid_only[key].average_df)\n",
    "    total_face.append(np.arctanh(face_corr))\n",
    "    face_pear_corr_vals.append(face_corr)\n",
    "    mouth_corr = mouth[key].average_df.corr(vid_only[key].average_df)\n",
    "    total_mouth.append(np.arctanh(mouth_corr))\n",
    "    mouth_pear_corr_vals.append(mouth_corr)\n",
    "    eyes_corr = eyes[key].average_df.corr(vid_only[key].average_df)\n",
    "    total_eyes.append(np.arctanh(eyes_corr))\n",
    "    eyes_pear_corr_vals.append(eyes_corr)\n",
    "    print('For video %s: corr\\'s btwn video_only and face, mouth, and eyes are: %5f, %5f, %5f' % (key, face_corr, mouth_corr, eyes_corr))\n",
    "    \n",
    "print('Average Face Correlation: ', np.tanh(np.sum(total_face)/24))\n",
    "print('Average Mouth Correlation: ', np.tanh(np.sum(total_mouth)/24))\n",
    "print('Average Eyes Correlation: ', np.tanh(np.sum(total_eyes)/24))\n",
    "\n",
    "\n",
    "    "
   ]
  },
  {
   "cell_type": "code",
   "execution_count": 9,
   "metadata": {},
   "outputs": [
    {
     "data": {
      "text/plain": [
       "<matplotlib.axes._subplots.AxesSubplot at 0x1092c8e10>"
      ]
     },
     "execution_count": 9,
     "metadata": {},
     "output_type": "execute_result"
    },
    {
     "data": {
      "image/png": "[encoded data removed]",
      "text/plain": [
       "<matplotlib.figure.Figure at 0x10928a8d0>"
      ]
     },
     "metadata": {},
     "output_type": "display_data"
    }
   ],
   "source": [
    "pd.DataFrame({'Face':face_pear_corr_vals, 'Mouth':mouth_pear_corr_vals, 'Eyes':eyes_pear_corr_vals}).boxplot(column=['Eyes', 'Face', 'Mouth'])"
   ]
  },
  {
   "cell_type": "code",
   "execution_count": null,
   "metadata": {},
   "outputs": [],
   "source": []
  }
 ],
 "metadata": {
  "kernelspec": {
   "display_name": "Python 3",
   "language": "python",
   "name": "python3"
  },
  "language_info": {
   "codemirror_mode": {
    "name": "ipython",
    "version": 3
   },
   "file_extension": ".py",
   "mimetype": "text/x-python",
   "name": "python",
   "nbconvert_exporter": "python",
   "pygments_lexer": "ipython3",
   "version": "3.6.4"
  }
 },
 "nbformat": 4,
 "nbformat_minor": 2
}
