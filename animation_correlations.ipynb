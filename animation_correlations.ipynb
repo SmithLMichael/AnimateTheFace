{
 "cells": [
  {
   "cell_type": "markdown",
   "metadata": {},
   "source": [
    "# Introduction: Animation Correlations\n",
    "\n",
    "To calculate the correlations between Michael's animation videos and the video only videos, we must do three steps: \n",
    "1. Clean the datasets to remove participants who didn't perform as desired.\n",
    "2. Average columnwise to get the average ratings of a specific animation/video in a vector form.\n",
    "3. Calculate the correlation between the video_only condition and {mouth_only, eyes_only, and full_face} animation conditions."
   ]
  },
  {
   "cell_type": "code",
   "execution_count": 1,
   "metadata": {},
   "outputs": [
    {
     "name": "stderr",
     "output_type": "stream",
     "text": [
      "/anaconda3/lib/python3.6/site-packages/matplotlib/__init__.py:955: UserWarning: Illegal line #1\n",
      "\t\"backend=TkAgg\"\n",
      "\tin file \"/Users/MichaelSmith/.matplotlib/matplotlibrc\"\n",
      "  warnings.warn('Illegal %s' % error_details)\n"
     ]
    }
   ],
   "source": [
    "import os\n",
    "import csv\n",
    "import pandas as pd\n",
    "import numpy as np\n",
    "import re\n",
    "from cleanavgcorr import ParticipantResults\n",
    "import scipy.stats as st\n",
    "%matplotlib inline"
   ]
  },
  {
   "cell_type": "markdown",
   "metadata": {},
   "source": [
    "# Read in CSV Files\n",
    "\n",
    "We read in CSV's to four lists: face, eyes, mouth, and vid_only. Each list contains twelve tuples, corresponding to the twelve videos that we tested participants on. Each tuple is of format (video_id, class ParticipantResults). \n",
    "\n",
    "*For anim_directory*: give the path to the 'val_ratings_result' folder in the 'animation_results' folder.\n",
    "\n",
    "*For vid_only_dir*: give the path to the 'videoOnly results' \n",
    "\n",
    "*For worker_info*: give the path to the worker_info.csv file"
   ]
  },
  {
   "cell_type": "code",
   "execution_count": 9,
   "metadata": {},
   "outputs": [],
   "source": [
    "# anim_directory = os.fsencode('/Users/MichaelSmith/Desktop/new_animation_result/ratings')\n",
    "# vid_only_dir = os.fsencode('/Users/MichaelSmith/Desktop/VideoOnly')\n",
    "# worker_info = pd.read_csv('/Users/MichaelSmith/Desktop/new_animation_result/workers/worker_info_new.csv', sep=',')\n",
    "\n",
    "anim_directory = os.fsencode('/Users/MichaelSmith/Desktop/Recent Desktop SSNL/new_animation_result/ratings')\n",
    "vid_only_dir = os.fsencode('/Users/MichaelSmith/Desktop/Recent Desktop SSNL/VideoOnly')\n",
    "\n",
    "#vid_only_dir = os.fsencode('/Users/MichaelSmith/Desktop/Full_vids') # this is the actual both conditions\n",
    "\n",
    "worker_info = pd.read_csv('/Users/MichaelSmith/Desktop/Recent Desktop SSNL/new_animation_result/workers/worker_info_new.csv', sep=',')\n",
    "\n",
    "face = {}\n",
    "mouth = {}\n",
    "eyes = {}\n",
    "vid_only = {}\n",
    "\n",
    "# FACE, EYES, MOUTH ANIMATION CONDITIONS\n",
    "for file in os.listdir(anim_directory):\n",
    "    filename = os.fsdecode(file)\n",
    "    if filename.endswith('.csv'):\n",
    "        vid_id = filename[:10]\n",
    "        df = pd.read_csv(os.path.join(os.fsdecode(anim_directory), filename))\n",
    "        if 'face' in filename:\n",
    "            pr = ParticipantResults(vid_id + '_anim_face', df, worker_info)\n",
    "            face[vid_id] = pr\n",
    "        elif 'eyes' in filename:\n",
    "            pr = ParticipantResults(vid_id + '_anim_eyes', df, worker_info)\n",
    "            eyes[vid_id] = pr\n",
    "        else:\n",
    "            pr = ParticipantResults(vid_id + '_anim_mouth', df, worker_info)\n",
    "            mouth[vid_id] = pr\n",
    "\n",
    "# VIDEO ONLY CONDITION\n",
    "for file in os.listdir(vid_only_dir):\n",
    "    filename = os.fsdecode(file)\n",
    "    if filename.endswith('.csv'):\n",
    "        vid_id = filename[:10]\n",
    "        df = pd.read_csv(os.path.join(os.fsdecode(vid_only_dir), filename))\n",
    "        pr = ParticipantResults(vid_id, df, worker_info)\n",
    "        vid_only[vid_id] = pr"
   ]
  },
  {
   "cell_type": "code",
   "execution_count": 10,
   "metadata": {},
   "outputs": [
    {
     "data": {
      "text/plain": [
       "<cleanavgcorr.ParticipantResults at 0x1a1b8f4780>"
      ]
     },
     "execution_count": 10,
     "metadata": {},
     "output_type": "execute_result"
    }
   ],
   "source": [
    "face['ID118_vid3']"
   ]
  },
  {
   "cell_type": "code",
   "execution_count": null,
   "metadata": {},
   "outputs": [],
   "source": []
  },
  {
   "cell_type": "code",
   "execution_count": 163,
   "metadata": {},
   "outputs": [],
   "source": [
    "targets = {}\n",
    "\n",
    "target_dir = os.fsencode('/Users/MichaelSmith/Desktop/target')\n",
    "\n",
    "for file in os.listdir(target_dir):\n",
    "    filename = os.fsdecode(file)\n",
    "    if filename.endswith('.csv'):\n",
    "        vid_id = filename[:10]\n",
    "        if vid_id in vid_only:\n",
    "            df = pd.read_csv(os.path.join(os.fsdecode(target_dir), filename))\n",
    "            targets[vid_id] = df"
   ]
  },
  {
   "cell_type": "code",
   "execution_count": 165,
   "metadata": {},
   "outputs": [
    {
     "name": "stdout",
     "output_type": "stream",
     "text": [
      "ID128_vid2\n",
      "ID129_vid2\n",
      "ID161_vid3\n",
      "ID129_vid5\n",
      "ID135_vid3\n",
      "ID170_vid2\n",
      "ID171_vid1\n",
      "ID167_vid2\n",
      "ID153_vid3\n",
      "ID169_vid4\n",
      "ID120_vid4\n",
      "ID121_vid5\n",
      "ID174_vid2\n",
      "ID174_vid3\n",
      "ID120_vid1\n",
      "ID137_vid6\n",
      "ID118_vid3\n",
      "ID147_vid5\n",
      "ID151_vid2\n",
      "ID173_vid6\n",
      "ID181_vid2\n",
      "ID147_vid2\n",
      "ID119_vid4\n",
      "ID181_vid4\n"
     ]
    }
   ],
   "source": [
    "for target in targets:\n",
    "    print(target)"
   ]
  },
  {
   "cell_type": "markdown",
   "metadata": {},
   "source": [
    "# Cleaning and Averaging\n",
    "First, we need to clean the CSV files before we can average the participants' ratings. The type of cleaning depends on\n",
    "the CSV. \n",
    "\n",
    "##### Removal Conditions:\n",
    "For the animation CSVs (only), we have information on the attention of the participants (time spent on the tab = i.e. 1 - time on other tab(s)); if attention falls below 75% **(subject to change)**, we remove that participant's trial results. For both the video-only and animation conditions, we remove a participant's trial if they do not move the slider bar at least three times **(subject to change)**. These variables can be changed in the ParticipantResults class.\n",
    "\n",
    "This leaves us with datasets of size (num_participants x time).\n",
    "##### Averaging:\n",
    "We average each dataset columnwise, across participants."
   ]
  },
  {
   "cell_type": "code",
   "execution_count": 11,
   "metadata": {},
   "outputs": [
    {
     "name": "stdout",
     "output_type": "stream",
     "text": [
      "Num people thrown out for video ID173_vid6_anim_face: 4 out of 37 participants\n",
      "Num people thrown out for video ID173_vid6_anim_eyes: 2 out of 26 participants\n",
      "Num people thrown out for video ID173_vid6_anim_mouth: 3 out of 27 participants\n",
      "Num people thrown out for video ID173_vid6: 9 out of 59 participants\n",
      "\n",
      "Num people thrown out for video ID120_vid1_anim_face: 6 out of 35 participants\n",
      "Num people thrown out for video ID120_vid1_anim_eyes: 2 out of 23 participants\n",
      "Num people thrown out for video ID120_vid1_anim_mouth: 6 out of 32 participants\n",
      "Num people thrown out for video ID120_vid1: 5 out of 64 participants\n",
      "\n",
      "Num people thrown out for video ID174_vid2_anim_face: 5 out of 34 participants\n",
      "Num people thrown out for video ID174_vid2_anim_eyes: 4 out of 24 participants\n",
      "Num people thrown out for video ID174_vid2_anim_mouth: 4 out of 32 participants\n",
      "Num people thrown out for video ID174_vid2: 10 out of 69 participants\n",
      "\n",
      "Num people thrown out for video ID151_vid2_anim_face: 9 out of 30 participants\n",
      "Num people thrown out for video ID151_vid2_anim_eyes: 8 out of 25 participants\n",
      "Num people thrown out for video ID151_vid2_anim_mouth: 8 out of 35 participants\n",
      "Num people thrown out for video ID151_vid2: 11 out of 58 participants\n",
      "\n",
      "Num people thrown out for video ID135_vid3_anim_face: 1 out of 28 participants\n",
      "Num people thrown out for video ID135_vid3_anim_eyes: 4 out of 32 participants\n",
      "Num people thrown out for video ID135_vid3_anim_mouth: 4 out of 30 participants\n",
      "Num people thrown out for video ID135_vid3: 6 out of 56 participants\n",
      "\n",
      "Num people thrown out for video ID161_vid3_anim_face: 4 out of 28 participants\n",
      "Num people thrown out for video ID161_vid3_anim_eyes: 6 out of 30 participants\n",
      "Num people thrown out for video ID161_vid3_anim_mouth: 8 out of 32 participants\n",
      "Num people thrown out for video ID161_vid3: 13 out of 54 participants\n",
      "\n",
      "Num people thrown out for video ID169_vid4_anim_face: 7 out of 29 participants\n",
      "Num people thrown out for video ID169_vid4_anim_eyes: 7 out of 25 participants\n",
      "Num people thrown out for video ID169_vid4_anim_mouth: 12 out of 36 participants\n",
      "Num people thrown out for video ID169_vid4: 7 out of 50 participants\n",
      "\n",
      "Num people thrown out for video ID181_vid2_anim_face: 2 out of 30 participants\n",
      "Num people thrown out for video ID181_vid2_anim_eyes: 4 out of 30 participants\n",
      "Num people thrown out for video ID181_vid2_anim_mouth: 2 out of 30 participants\n",
      "Num people thrown out for video ID181_vid2: 6 out of 67 participants\n",
      "\n",
      "Num people thrown out for video ID147_vid5_anim_face: 4 out of 31 participants\n",
      "Num people thrown out for video ID147_vid5_anim_eyes: 2 out of 29 participants\n",
      "Num people thrown out for video ID147_vid5_anim_mouth: 4 out of 30 participants\n",
      "Num people thrown out for video ID147_vid5: 6 out of 59 participants\n",
      "\n",
      "Num people thrown out for video ID167_vid2_anim_face: 4 out of 30 participants\n",
      "Num people thrown out for video ID167_vid2_anim_eyes: 7 out of 34 participants\n",
      "Num people thrown out for video ID167_vid2_anim_mouth: 8 out of 26 participants\n",
      "Num people thrown out for video ID167_vid2: 6 out of 63 participants\n",
      "\n",
      "Num people thrown out for video ID119_vid4_anim_face: 9 out of 27 participants\n",
      "Num people thrown out for video ID119_vid4_anim_eyes: 9 out of 32 participants\n",
      "Num people thrown out for video ID119_vid4_anim_mouth: 9 out of 31 participants\n",
      "Num people thrown out for video ID119_vid4: 8 out of 50 participants\n",
      "\n",
      "Num people thrown out for video ID120_vid4_anim_face: 0 out of 28 participants\n",
      "Num people thrown out for video ID120_vid4_anim_eyes: 5 out of 41 participants\n",
      "Num people thrown out for video ID120_vid4_anim_mouth: 3 out of 21 participants\n",
      "Num people thrown out for video ID120_vid4: 6 out of 55 participants\n",
      "\n",
      "Num people thrown out for video ID181_vid4_anim_face: 7 out of 34 participants\n",
      "Num people thrown out for video ID181_vid4_anim_eyes: 11 out of 33 participants\n",
      "Num people thrown out for video ID181_vid4_anim_mouth: 10 out of 23 participants\n",
      "Num people thrown out for video ID181_vid4: 6 out of 55 participants\n",
      "\n",
      "Num people thrown out for video ID129_vid5_anim_face: 3 out of 24 participants\n",
      "Num people thrown out for video ID129_vid5_anim_eyes: 4 out of 32 participants\n",
      "Num people thrown out for video ID129_vid5_anim_mouth: 2 out of 34 participants\n",
      "Num people thrown out for video ID129_vid5: 9 out of 65 participants\n",
      "\n",
      "Num people thrown out for video ID137_vid6_anim_face: 4 out of 23 participants\n",
      "Num people thrown out for video ID137_vid6_anim_eyes: 5 out of 28 participants\n",
      "Num people thrown out for video ID137_vid6_anim_mouth: 8 out of 39 participants\n",
      "Num people thrown out for video ID137_vid6: 9 out of 60 participants\n",
      "\n",
      "Num people thrown out for video ID118_vid3_anim_face: 5 out of 29 participants\n",
      "Num people thrown out for video ID118_vid3_anim_eyes: 6 out of 31 participants\n",
      "Num people thrown out for video ID118_vid3_anim_mouth: 8 out of 30 participants\n",
      "Num people thrown out for video ID118_vid3: 9 out of 59 participants\n",
      "\n",
      "Num people thrown out for video ID128_vid2_anim_face: 9 out of 33 participants\n",
      "Num people thrown out for video ID128_vid2_anim_eyes: 5 out of 29 participants\n",
      "Num people thrown out for video ID128_vid2_anim_mouth: 4 out of 28 participants\n",
      "Num people thrown out for video ID128_vid2: 15 out of 69 participants\n",
      "\n",
      "Num people thrown out for video ID147_vid2_anim_face: 3 out of 27 participants\n",
      "Num people thrown out for video ID147_vid2_anim_eyes: 7 out of 28 participants\n",
      "Num people thrown out for video ID147_vid2_anim_mouth: 3 out of 35 participants\n",
      "Num people thrown out for video ID147_vid2: 8 out of 51 participants\n",
      "\n",
      "Num people thrown out for video ID171_vid1_anim_face: 8 out of 39 participants\n",
      "Num people thrown out for video ID171_vid1_anim_eyes: 1 out of 30 participants\n",
      "Num people thrown out for video ID171_vid1_anim_mouth: 5 out of 21 participants\n",
      "Num people thrown out for video ID171_vid1: 13 out of 54 participants\n",
      "\n",
      "Num people thrown out for video ID170_vid2_anim_face: 3 out of 29 participants\n",
      "Num people thrown out for video ID170_vid2_anim_eyes: 5 out of 31 participants\n",
      "Num people thrown out for video ID170_vid2_anim_mouth: 5 out of 30 participants\n",
      "Num people thrown out for video ID170_vid2: 14 out of 56 participants\n",
      "\n",
      "Num people thrown out for video ID153_vid3_anim_face: 8 out of 32 participants\n",
      "Num people thrown out for video ID153_vid3_anim_eyes: 6 out of 39 participants\n",
      "Num people thrown out for video ID153_vid3_anim_mouth: 4 out of 19 participants\n",
      "Num people thrown out for video ID153_vid3: 8 out of 59 participants\n",
      "\n",
      "Num people thrown out for video ID129_vid2_anim_face: 8 out of 30 participants\n",
      "Num people thrown out for video ID129_vid2_anim_eyes: 5 out of 31 participants\n",
      "Num people thrown out for video ID129_vid2_anim_mouth: 4 out of 29 participants\n",
      "Num people thrown out for video ID129_vid2: 13 out of 61 participants\n",
      "\n",
      "Num people thrown out for video ID174_vid3_anim_face: 2 out of 25 participants\n",
      "Num people thrown out for video ID174_vid3_anim_eyes: 6 out of 32 participants\n",
      "Num people thrown out for video ID174_vid3_anim_mouth: 1 out of 33 participants\n",
      "Num people thrown out for video ID174_vid3: 9 out of 60 participants\n",
      "\n",
      "Num people thrown out for video ID121_vid5_anim_face: 7 out of 28 participants\n",
      "Num people thrown out for video ID121_vid5_anim_eyes: 2 out of 25 participants\n",
      "Num people thrown out for video ID121_vid5_anim_mouth: 6 out of 37 participants\n",
      "Num people thrown out for video ID121_vid5: 16 out of 66 participants\n",
      "\n"
     ]
    }
   ],
   "source": [
    "# We can call clean as many times as possible - but cleaning only works once. Same with averaging.\n",
    "for key in vid_only:\n",
    "    face[key].clean()\n",
    "    face[key].compute_average()\n",
    "    eyes[key].clean()\n",
    "    eyes[key].compute_average()\n",
    "    mouth[key].clean()\n",
    "    mouth[key].compute_average()\n",
    "    vid_only[key].clean(anim=False)\n",
    "    vid_only[key].compute_average()\n",
    "    print()"
   ]
  },
  {
   "cell_type": "code",
   "execution_count": 12,
   "metadata": {},
   "outputs": [
    {
     "name": "stdout",
     "output_type": "stream",
     "text": [
      "0.8064516129032258\n"
     ]
    }
   ],
   "source": [
    "print(len(eyes['ID118_vid3'].modded_df.index) / len(eyes['ID118_vid3'].orig_df.index))"
   ]
  },
  {
   "cell_type": "code",
   "execution_count": 13,
   "metadata": {},
   "outputs": [
    {
     "name": "stdout",
     "output_type": "stream",
     "text": [
      "0.8431278472799235\n"
     ]
    }
   ],
   "source": [
    "sum = 0.0\n",
    "for key in vid_only:\n",
    "    sum += len(vid_only[key].modded_df.index) / len(vid_only[key].orig_df.index)\n",
    "print(sum/len(vid_only))"
   ]
  },
  {
   "cell_type": "code",
   "execution_count": null,
   "metadata": {},
   "outputs": [],
   "source": []
  },
  {
   "cell_type": "code",
   "execution_count": 92,
   "metadata": {},
   "outputs": [
    {
     "name": "stdout",
     "output_type": "stream",
     "text": [
      "0.21264300459055827\n"
     ]
    }
   ],
   "source": [
    "# in this cell -- we calculate the in-group correlations\n",
    "\n",
    "from scipy.stats import pearsonr, spearmanr\n",
    "\n",
    "corr_dict = {}\n",
    "\n",
    "#for key1 in vid_only:\n",
    "#    print(vid_only[key1].orig_df.shape)\n",
    "\n",
    "ex_arry = vid_only[key].modded_df.values\n",
    "ex_arry = ex_arry[:, 1:]\n",
    "\n",
    "divisor = ex_arry.shape[0] # 50\n",
    "\n",
    "big = 0\n",
    "\n",
    "for row_ind in range(ex_arry.shape[0]):\n",
    "    leave_out = ex_arry[row_ind, :]\n",
    "    rest = np.vstack((ex_arry[:row_ind, :], ex_arry[row_ind+1:, :]))\n",
    "    \n",
    "    indiv_corr = 0\n",
    "    for row2_ind in range(rest.shape[0]):\n",
    "        indiv_corr += np.arctanh(pearsonr(leave_out, rest[row2_ind])[0])\n",
    "        \n",
    "    big += indiv_corr/(divisor-1)\n",
    "\n",
    "        \n",
    "        \n",
    "print(np.tanh(big/divisor)) # probabilistic space transform...\n",
    "\n",
    "            "
   ]
  },
  {
   "cell_type": "code",
   "execution_count": 173,
   "metadata": {},
   "outputs": [],
   "source": [
    "#targets['ID128_vid2'].drop('time', axis=1, inplace=True)\n",
    "\n",
    "for target in targets:\n",
    "    if 'time' in targets[target].columns:\n",
    "       targets[target].drop('time', axis=1, inplace=True)\n",
    "    targets[target] = targets[target].values.reshape((targets[target].shape[0],))\n",
    "\n"
   ]
  },
  {
   "cell_type": "code",
   "execution_count": 185,
   "metadata": {},
   "outputs": [],
   "source": [
    "vid_only_modded = {}\n",
    "targs_modded = {}\n",
    "face_modded = {}\n",
    "mouth_modded = {}\n",
    "eyes_modded = {}\n",
    "\n",
    "\n",
    "for target in targets:\n",
    "    min_len = min(targets[target].shape[0], vid_only[target].average_df.shape[0], \n",
    "                  face[target].average_df.shape[0], mouth[target].average_df.shape[0],\n",
    "                 eyes[target].average_df.shape[0])\n",
    "    targs_modded[target] = pd.DataFrame(targets[target][:min_len])\n",
    "    vid_only_modded[target] = vid_only[target].average_df[:min_len]\n",
    "    face_modded[target] = face[target].average_df[:min_len]\n",
    "    mouth_modded[target] = mouth[target].average_df[:min_len]\n",
    "    eyes_modded[target] = eyes[target].average_df[:min_len]\n",
    "    \n",
    "\n"
   ]
  },
  {
   "cell_type": "code",
   "execution_count": 186,
   "metadata": {},
   "outputs": [],
   "source": [
    "# do some correlation with targets instead..."
   ]
  },
  {
   "cell_type": "code",
   "execution_count": 207,
   "metadata": {},
   "outputs": [
    {
     "name": "stdout",
     "output_type": "stream",
     "text": [
      "For video ID128_vid2: corr's btwn video_only and face, mouth, and eyes are: -0.652790, 0.375794, 0.160735\n",
      "For video ID129_vid2: corr's btwn video_only and face, mouth, and eyes are: 0.097002, -0.359360, 0.202503\n",
      "For video ID161_vid3: corr's btwn video_only and face, mouth, and eyes are: 0.757693, 0.657542, 0.017129\n",
      "For video ID129_vid5: corr's btwn video_only and face, mouth, and eyes are: -0.540616, -0.145447, -0.929643\n",
      "For video ID135_vid3: corr's btwn video_only and face, mouth, and eyes are: 0.231837, -0.209989, -0.768572\n",
      "For video ID170_vid2: corr's btwn video_only and face, mouth, and eyes are: 0.227392, 0.286742, -0.580640\n",
      "For video ID171_vid1: corr's btwn video_only and face, mouth, and eyes are: -0.219867, -0.018824, -0.503290\n",
      "For video ID167_vid2: corr's btwn video_only and face, mouth, and eyes are: -0.434347, -0.037496, 0.197091\n",
      "For video ID153_vid3: corr's btwn video_only and face, mouth, and eyes are: 0.426130, 0.564521, 0.852168\n",
      "For video ID169_vid4: corr's btwn video_only and face, mouth, and eyes are: -0.722734, 0.122598, -0.880875\n",
      "For video ID120_vid4: corr's btwn video_only and face, mouth, and eyes are: 0.577250, 0.136852, 0.170346\n",
      "For video ID121_vid5: corr's btwn video_only and face, mouth, and eyes are: -0.227584, -0.039818, -0.185800\n",
      "For video ID174_vid2: corr's btwn video_only and face, mouth, and eyes are: 0.698984, 0.776378, 0.120888\n",
      "For video ID174_vid3: corr's btwn video_only and face, mouth, and eyes are: 0.722007, 0.465585, 0.056700\n",
      "For video ID120_vid1: corr's btwn video_only and face, mouth, and eyes are: 0.160227, 0.365934, 0.091771\n",
      "For video ID137_vid6: corr's btwn video_only and face, mouth, and eyes are: -0.022268, -0.100438, 0.473352\n",
      "For video ID118_vid3: corr's btwn video_only and face, mouth, and eyes are: -0.098121, 0.034221, 0.645075\n",
      "For video ID147_vid5: corr's btwn video_only and face, mouth, and eyes are: 0.134948, -0.121667, 0.374037\n",
      "For video ID151_vid2: corr's btwn video_only and face, mouth, and eyes are: 0.574586, 0.687360, 0.589406\n",
      "For video ID173_vid6: corr's btwn video_only and face, mouth, and eyes are: 0.374722, -0.666508, 0.207888\n",
      "For video ID181_vid2: corr's btwn video_only and face, mouth, and eyes are: 0.478353, 0.696170, 0.537663\n",
      "For video ID147_vid2: corr's btwn video_only and face, mouth, and eyes are: 0.076306, -0.013072, -0.189863\n",
      "For video ID119_vid4: corr's btwn video_only and face, mouth, and eyes are: 0.814642, 0.642567, 0.759070\n",
      "For video ID181_vid4: corr's btwn video_only and face, mouth, and eyes are: 0.271461, 0.569562, 0.594524\n",
      "Average Face Correlation:  0.18407412067730264\n",
      "Average Mouth Correlation:  0.22828932479792066\n",
      "Average Eyes Correlation:  0.06169736719110142\n"
     ]
    }
   ],
   "source": [
    "total_face = []\n",
    "face_pear_corr_vals = []\n",
    "\n",
    "total_mouth = []\n",
    "mouth_pear_corr_vals = []\n",
    "\n",
    "total_eyes = []\n",
    "eyes_pear_corr_vals = []\n",
    "\n",
    "dict_we_wanna_use = targs_modded\n",
    "div = len(dict_we_wanna_use)\n",
    "\n",
    "for key in dict_we_wanna_use:\n",
    "    sha = targs_modded[key].shape[0]\n",
    "    f = face_modded[key].values\n",
    "    m = mouth_modded[key].values\n",
    "    e = eyes_modded[key].values\n",
    "    t = targs_modded[key].values.reshape((sha,))\n",
    "    \n",
    "    face_corr = pearsonr(f, t)[0]\n",
    "    total_face.append(np.arctanh(face_corr))\n",
    "    face_pear_corr_vals.append(face_corr)\n",
    "    \n",
    "    mouth_corr = pearsonr(m, t)[0]\n",
    "    total_mouth.append(np.arctanh(mouth_corr))\n",
    "    mouth_pear_corr_vals.append(mouth_corr)\n",
    "    \n",
    "    eyes_corr = pearsonr(e, t)[0]\n",
    "    total_eyes.append(np.arctanh(eyes_corr))\n",
    "    eyes_pear_corr_vals.append(eyes_corr)\n",
    "    print('For video %s: corr\\'s btwn video_only and face, mouth, and eyes are: %5f, %5f, %5f' % (key, face_corr, mouth_corr, eyes_corr))\n",
    "    \n",
    "print('Average Face Correlation: ', np.tanh(np.sum(total_face)/div))\n",
    "print('Average Mouth Correlation: ', np.tanh(np.sum(total_mouth)/div))\n",
    "print('Average Eyes Correlation: ', np.tanh(np.sum(total_eyes)/div))"
   ]
  },
  {
   "cell_type": "code",
   "execution_count": 208,
   "metadata": {},
   "outputs": [
    {
     "data": {
      "text/plain": [
       "<matplotlib.axes._subplots.AxesSubplot at 0x1a1c542198>"
      ]
     },
     "execution_count": 208,
     "metadata": {},
     "output_type": "execute_result"
    },
    {
     "data": {
      "image/png": "[encoded data removed]",
      "text/plain": [
       "<matplotlib.figure.Figure at 0x1a1c5a1710>"
      ]
     },
     "metadata": {},
     "output_type": "display_data"
    }
   ],
   "source": [
    "pd.DataFrame({'Face':face_pear_corr_vals, 'Mouth':mouth_pear_corr_vals, 'Eyes':eyes_pear_corr_vals}).boxplot(column=['Eyes', 'Face', 'Mouth'])"
   ]
  },
  {
   "cell_type": "code",
   "execution_count": 101,
   "metadata": {},
   "outputs": [],
   "source": [
    "for key in vid_only:\n",
    "    curr_arr = vid_only[key].modded_df.values[:, 1:] # to get rid of participant id's\n",
    "    divisor = curr_arr.shape[0]\n",
    "    \n",
    "    overall_corr = 0\n",
    "    \n",
    "    for row_ind in range(divisor):\n",
    "        leave_out = curr_arr[row_ind, :]\n",
    "        rest = np.vstack((curr_arr[:row_ind, :], curr_arr[row_ind+1:, :]))\n",
    "        \n",
    "        indiv_corr = 0\n",
    "        for row2_ind in range(rest.shape[0]):\n",
    "            indiv_corr += np.arctanh(pearsonr(leave_out, rest[row2_ind])[0])\n",
    "            \n",
    "        overall_corr += indiv_corr/(divisor-1)\n",
    "        \n",
    "    corr_dict[key] = np.tanh(overall_corr/divisor)\n",
    "    "
   ]
  },
  {
   "cell_type": "code",
   "execution_count": 210,
   "metadata": {},
   "outputs": [
    {
     "name": "stdout",
     "output_type": "stream",
     "text": [
      "[0.09663977578392621, 0.19360972526154518, 0.21264300459055827, 0.22249030853734872, 0.2451487477151972, 0.24755847812442755, 0.24771655072178564, 0.28574609684478347, 0.28637124982607104, 0.29042670946295535, 0.3044029483380661, 0.32514147693337236, 0.33318216068570816, 0.35349735327689585, 0.371302249262075, 0.3841453530853013, 0.3892237850333407, 0.39829868442808375, 0.4010052360531072, 0.40381911335349197, 0.4414683122409104, 0.4617216651926436, 0.4856065119106889, 0.5898832057912969]\n",
      "12\n"
     ]
    }
   ],
   "source": [
    "top12 = {}\n",
    "bottom12 = {}\n",
    "mid12 = {}\n",
    "\n",
    "top6 = {}\n",
    "bottom6 = {}\n",
    "\n",
    "allofthem = []\n",
    "\n",
    "for key in corr_dict:\n",
    "    \n",
    "    allofthem.append(corr_dict[key])\n",
    "    \n",
    "    if corr_dict[key] > .40:\n",
    "        top6[key] = corr_dict[key]\n",
    "        \n",
    "    if corr_dict[key] <= .40 and corr_dict[key] >= .2476:\n",
    "        mid12[key] = corr_dict[key]\n",
    "        \n",
    "    if corr_dict[key] < .2476:\n",
    "        bottom6[key] = corr_dict[key]\n",
    "    \n",
    "    if corr_dict[key] > .33:\n",
    "        #print(corr_dict[key])\n",
    "        top12[key] = corr_dict[key]\n",
    "    else:\n",
    "        bottom12[key] = corr_dict[key]\n",
    "        \n",
    "print(sorted(allofthem))\n",
    "print(len(mid12))"
   ]
  },
  {
   "cell_type": "markdown",
   "metadata": {},
   "source": [
    "# Correlating\n",
    "\n",
    "For each of the three conditions ({eyes_only, jaw/mouth_only, full_face}), we correlate with the video_only condition for each video before averaging across all videos. We use pearson's r for correlating."
   ]
  },
  {
   "cell_type": "code",
   "execution_count": null,
   "metadata": {},
   "outputs": [],
   "source": []
  },
  {
   "cell_type": "code",
   "execution_count": null,
   "metadata": {},
   "outputs": [],
   "source": []
  },
  {
   "cell_type": "code",
   "execution_count": null,
   "metadata": {},
   "outputs": [],
   "source": []
  },
  {
   "cell_type": "code",
   "execution_count": 211,
   "metadata": {},
   "outputs": [
    {
     "name": "stdout",
     "output_type": "stream",
     "text": [
      "For video ID173_vid6: corr's btwn video_only and face, mouth, and eyes are: 0.758982, -0.125961, 0.005120\n",
      "For video ID120_vid1: corr's btwn video_only and face, mouth, and eyes are: 0.820400, 0.231546, -0.164377\n",
      "For video ID174_vid2: corr's btwn video_only and face, mouth, and eyes are: 0.548788, 0.342210, -0.505821\n",
      "For video ID135_vid3: corr's btwn video_only and face, mouth, and eyes are: -0.264098, 0.554585, 0.690425\n",
      "For video ID147_vid5: corr's btwn video_only and face, mouth, and eyes are: -0.193039, 0.391303, -0.073037\n",
      "For video ID181_vid4: corr's btwn video_only and face, mouth, and eyes are: 0.860411, 0.907085, -0.127113\n",
      "For video ID137_vid6: corr's btwn video_only and face, mouth, and eyes are: 0.188076, 0.164637, -0.440402\n",
      "For video ID118_vid3: corr's btwn video_only and face, mouth, and eyes are: 0.076164, -0.195537, -0.337808\n",
      "For video ID147_vid2: corr's btwn video_only and face, mouth, and eyes are: 0.049605, 0.588132, -0.227755\n",
      "For video ID170_vid2: corr's btwn video_only and face, mouth, and eyes are: 0.746535, 0.848766, -0.194188\n",
      "For video ID153_vid3: corr's btwn video_only and face, mouth, and eyes are: 0.594459, 0.584336, 0.926725\n",
      "For video ID129_vid2: corr's btwn video_only and face, mouth, and eyes are: -0.762712, -0.243365, 0.095808\n",
      "Average Face Correlation:  0.3627558258061037\n",
      "Average Mouth Correlation:  0.4171048173352061\n",
      "Average Eyes Correlation:  0.03397551129417662\n"
     ]
    }
   ],
   "source": [
    "total_face = []\n",
    "face_pear_corr_vals = []\n",
    "\n",
    "total_mouth = []\n",
    "mouth_pear_corr_vals = []\n",
    "\n",
    "total_eyes = []\n",
    "eyes_pear_corr_vals = []\n",
    "\n",
    "dict_we_wanna_use = mid12\n",
    "\n",
    "div = len(dict_we_wanna_use)\n",
    "\n",
    "for key in dict_we_wanna_use:\n",
    "    face_corr = face[key].average_df.corr(vid_only[key].average_df)\n",
    "    total_face.append(np.arctanh(face_corr))\n",
    "    face_pear_corr_vals.append(face_corr)\n",
    "    \n",
    "    mouth_corr = mouth[key].average_df.corr(vid_only[key].average_df)\n",
    "    total_mouth.append(np.arctanh(mouth_corr))\n",
    "    mouth_pear_corr_vals.append(mouth_corr)\n",
    "    \n",
    "    eyes_corr = eyes[key].average_df.corr(vid_only[key].average_df)\n",
    "    total_eyes.append(np.arctanh(eyes_corr))\n",
    "    eyes_pear_corr_vals.append(eyes_corr)\n",
    "    print('For video %s: corr\\'s btwn video_only and face, mouth, and eyes are: %5f, %5f, %5f' % (key, face_corr, mouth_corr, eyes_corr))\n",
    "    \n",
    "print('Average Face Correlation: ', np.tanh(np.sum(total_face)/div))\n",
    "print('Average Mouth Correlation: ', np.tanh(np.sum(total_mouth)/div))\n",
    "print('Average Eyes Correlation: ', np.tanh(np.sum(total_eyes)/div))\n",
    "\n",
    "\n",
    "    "
   ]
  },
  {
   "cell_type": "code",
   "execution_count": 8,
   "metadata": {},
   "outputs": [
    {
     "data": {
      "text/plain": [
       "<matplotlib.axes._subplots.AxesSubplot at 0x1a10bfc6a0>"
      ]
     },
     "execution_count": 8,
     "metadata": {},
     "output_type": "execute_result"
    },
    {
     "data": {
      "image/png": "[encoded data removed]",
      "text/plain": [
       "<matplotlib.figure.Figure at 0x1a10bfcb70>"
      ]
     },
     "metadata": {},
     "output_type": "display_data"
    }
   ],
   "source": [
    "pd.DataFrame({'Face':face_pear_corr_vals, 'Mouth':mouth_pear_corr_vals, 'Eyes':eyes_pear_corr_vals}).boxplot(column=['Eyes', 'Face', 'Mouth'])"
   ]
  },
  {
   "cell_type": "code",
   "execution_count": null,
   "metadata": {},
   "outputs": [],
   "source": []
  },
  {
   "cell_type": "code",
   "execution_count": null,
   "metadata": {},
   "outputs": [],
   "source": []
  }
 ],
 "metadata": {
  "kernelspec": {
   "display_name": "Python 3",
   "language": "python",
   "name": "python3"
  },
  "language_info": {
   "codemirror_mode": {
    "name": "ipython",
    "version": 3
   },
   "file_extension": ".py",
   "mimetype": "text/x-python",
   "name": "python",
   "nbconvert_exporter": "python",
   "pygments_lexer": "ipython3",
   "version": "3.6.4"
  }
 },
 "nbformat": 4,
 "nbformat_minor": 2
}
